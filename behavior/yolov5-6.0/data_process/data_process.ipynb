{
 "cells": [
  {
   "cell_type": "code",
   "execution_count": 2,
   "metadata": {},
   "outputs": [],
   "source": [
    "import os\n",
    "import cv2 as cv\n",
    "import json"
   ]
  },
  {
   "cell_type": "code",
   "execution_count": null,
   "metadata": {},
   "outputs": [],
   "source": [
    "# the files of train images\n",
    "img_folder = \"G:\\\\Yolov5\\\\yolov5-6.0\\\\yolov5-6.0\\\\data\\\\dataset\\\\train\\\\images\"\n",
    "# the files of train labels\n",
    "label_path = \"G:\\Yolov5\\yolov5-6.0\\yolov5-6.0\\data\\dataset\\train\\labels\""
   ]
  },
  {
   "cell_type": "code",
   "execution_count": 4,
   "metadata": {},
   "outputs": [],
   "source": [
    "cv.imshow(\"img\", img)\n",
    "if cv.waitKey(0) == ord('q'):\n",
    "    cv.destroyAllWindows()"
   ]
  },
  {
   "cell_type": "code",
   "execution_count": null,
   "metadata": {},
   "outputs": [],
   "source": [
    "img = cv.rectangle(img, )"
   ]
  }
 ],
 "metadata": {
  "kernelspec": {
   "display_name": "yolo_v5",
   "language": "python",
   "name": "python3"
  },
  "language_info": {
   "codemirror_mode": {
    "name": "ipython",
    "version": 3
   },
   "file_extension": ".py",
   "mimetype": "text/x-python",
   "name": "python",
   "nbconvert_exporter": "python",
   "pygments_lexer": "ipython3",
   "version": "3.8.20"
  }
 },
 "nbformat": 4,
 "nbformat_minor": 2
}
